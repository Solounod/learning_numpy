{
 "cells": [
  {
   "cell_type": "code",
   "execution_count": 2,
   "id": "ad66b7a7-deab-400c-ab7c-466c5bc5c556",
   "metadata": {},
   "outputs": [
    {
     "name": "stdout",
     "output_type": "stream",
     "text": [
      "[  0   1   4   9  16  25  36  49  64  81 100 121]\n"
     ]
    },
    {
     "data": {
      "text/plain": [
       "array([ 1,  1,  9, 64, 25])"
      ]
     },
     "execution_count": 2,
     "metadata": {},
     "output_type": "execute_result"
    }
   ],
   "source": [
    "import numpy as np\n",
    "\n",
    "array_1 = np.arange(12)**2\n",
    "print(array_1)\n",
    "array_2 = np.array([1, 1, 3, 8, 5])\n",
    "array_1[array_2]\n"
   ]
  },
  {
   "cell_type": "markdown",
   "id": "fe4f50cb-b1bc-431e-9333-67f903f87b4d",
   "metadata": {},
   "source": [
    "sentency array_1[array_2] look for number index array"
   ]
  },
  {
   "cell_type": "markdown",
   "id": "89992fb0-a16b-45bc-a237-bdf101063cb7",
   "metadata": {},
   "source": [
    "index multidimentional "
   ]
  },
  {
   "cell_type": "code",
   "execution_count": 3,
   "id": "573ed6ca-5f4a-4ffc-9c8a-740478367f77",
   "metadata": {},
   "outputs": [
    {
     "data": {
      "text/plain": [
       "array([[[1, 1, 1, 1],\n",
       "        [0, 0, 0, 0],\n",
       "        [4, 4, 4, 4],\n",
       "        [2, 2, 2, 2],\n",
       "        [1, 1, 1, 1],\n",
       "        [0, 0, 0, 0]],\n",
       "\n",
       "       [[0, 0, 0, 0],\n",
       "        [0, 0, 0, 0],\n",
       "        [0, 0, 0, 0],\n",
       "        [4, 4, 4, 4],\n",
       "        [4, 4, 4, 4],\n",
       "        [3, 3, 3, 3]]])"
      ]
     },
     "execution_count": 3,
     "metadata": {},
     "output_type": "execute_result"
    }
   ],
   "source": [
    "example_array = np.array([[0, 0, 0, 0],\n",
    "                         [1, 1, 1, 1],\n",
    "                         [2, 2, 2, 2],\n",
    "                         [3, 3, 3, 3],\n",
    "                         [4, 4, 4, 4]])\n",
    "index_array = np.array([[1, 0, 4, 2, 1, 0],\n",
    "                       [0, 0, 0, 4, 4, 3]])\n",
    "example_array[index_array]"
   ]
  },
  {
   "cell_type": "markdown",
   "id": "a2d7c087-00d6-4e6e-a5b1-507c409f87eb",
   "metadata": {},
   "source": [
    "You can also index for more than one dimension.\n"
   ]
  },
  {
   "cell_type": "code",
   "execution_count": 4,
   "id": "9052b2eb-7323-4c9d-8e1b-57947ca3de4e",
   "metadata": {},
   "outputs": [
    {
     "data": {
      "text/plain": [
       "array([[ 0,  1,  2,  3,  4,  5,  6,  7],\n",
       "       [ 8,  9, 10, 11, 12, 13, 14, 15],\n",
       "       [16, 17, 18, 19, 20, 21, 22, 23],\n",
       "       [24, 25, 26, 27, 28, 29, 30, 31]])"
      ]
     },
     "execution_count": 4,
     "metadata": {},
     "output_type": "execute_result"
    }
   ],
   "source": [
    "array_2_example = np.arange(32).reshape(4, 8)\n",
    "array_2_example"
   ]
  },
  {
   "cell_type": "code",
   "execution_count": 5,
   "id": "9a1c5dff-4e55-48bc-9df9-2b259c25ebfa",
   "metadata": {},
   "outputs": [
    {
     "data": {
      "text/plain": [
       "array([[ 3, 22],\n",
       "       [27, 15]])"
      ]
     },
     "execution_count": 5,
     "metadata": {},
     "output_type": "execute_result"
    }
   ],
   "source": [
    "i = np.array([[0, 2],\n",
    "             [3, 1]])\n",
    "j = np.array([[3, 6],\n",
    "             [3, 7]])\n",
    "array_2_example[i, j] #(0,3), (2, 6), (3,3), (1, 7)"
   ]
  },
  {
   "cell_type": "code",
   "execution_count": 6,
   "id": "11c6bb30-7071-46f9-9dbb-fea064e6e54e",
   "metadata": {},
   "outputs": [
    {
     "data": {
      "text/plain": [
       "array([[ 5, 21],\n",
       "       [29, 13]])"
      ]
     },
     "execution_count": 6,
     "metadata": {},
     "output_type": "execute_result"
    }
   ],
   "source": [
    "array_2_example[i, 5]"
   ]
  },
  {
   "cell_type": "code",
   "execution_count": null,
   "id": "f37c8d99-f2c0-4586-b97e-44ededc06275",
   "metadata": {},
   "outputs": [],
   "source": []
  }
 ],
 "metadata": {
  "kernelspec": {
   "display_name": "Python 3 (ipykernel)",
   "language": "python",
   "name": "python3"
  },
  "language_info": {
   "codemirror_mode": {
    "name": "ipython",
    "version": 3
   },
   "file_extension": ".py",
   "mimetype": "text/x-python",
   "name": "python",
   "nbconvert_exporter": "python",
   "pygments_lexer": "ipython3",
   "version": "3.9.7"
  }
 },
 "nbformat": 4,
 "nbformat_minor": 5
}
