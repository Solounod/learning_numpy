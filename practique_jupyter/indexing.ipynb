{
 "cells": [
  {
   "cell_type": "code",
   "execution_count": 3,
   "id": "e13b04b3-eb55-462e-858a-4b3957684e29",
   "metadata": {},
   "outputs": [],
   "source": [
    "import numpy as np"
   ]
  },
  {
   "cell_type": "code",
   "execution_count": 4,
   "id": "4d48c596-9741-46e0-8859-23544c0d177e",
   "metadata": {},
   "outputs": [],
   "source": [
    "array_example_index = np.arange(28).reshape(4,7)"
   ]
  },
  {
   "cell_type": "code",
   "execution_count": 5,
   "id": "9d4d20e0-5a33-4b3e-a695-904537f5708e",
   "metadata": {},
   "outputs": [
    {
     "name": "stdout",
     "output_type": "stream",
     "text": [
      "[[ 0  1  2  3  4  5  6]\n",
      " [ 7  8  9 10 11 12 13]\n",
      " [14 15 16 17 18 19 20]\n",
      " [21 22 23 24 25 26 27]]\n"
     ]
    }
   ],
   "source": [
    "print(array_example_index)"
   ]
  },
  {
   "cell_type": "code",
   "execution_count": 8,
   "id": "3618ee27-fb2e-4f35-a3ea-6dcc4974863f",
   "metadata": {},
   "outputs": [
    {
     "name": "stdout",
     "output_type": "stream",
     "text": [
      "18\n"
     ]
    }
   ],
   "source": [
    "print(array_example_index[2,4])#18"
   ]
  },
  {
   "cell_type": "code",
   "execution_count": 10,
   "id": "26ad2b88-7ed3-4b48-8713-2198c928448e",
   "metadata": {},
   "outputs": [
    {
     "name": "stdout",
     "output_type": "stream",
     "text": [
      "[ 3 10]\n"
     ]
    }
   ],
   "source": [
    "print(array_example_index[0:2,3])#3,10"
   ]
  },
  {
   "cell_type": "code",
   "execution_count": 11,
   "id": "c8c3ce82-fe73-484f-a015-fcf29a1d64ed",
   "metadata": {},
   "outputs": [
    {
     "name": "stdout",
     "output_type": "stream",
     "text": [
      "[[ 7  8  9 10 11 12 13]\n",
      " [14 15 16 17 18 19 20]]\n"
     ]
    }
   ],
   "source": [
    "print(array_example_index[1:3,:])"
   ]
  },
  {
   "cell_type": "markdown",
   "id": "f9848e88-5715-4da4-bf5c-268f3142b48c",
   "metadata": {},
   "source": []
  },
  {
   "cell_type": "code",
   "execution_count": 16,
   "id": "b937134c-25aa-4586-a315-be3fc0056ee0",
   "metadata": {},
   "outputs": [
    {
     "name": "stdout",
     "output_type": "stream",
     "text": [
      "[[ 7  8  9 10 11 12 13]\n",
      " [14 15 16 17 18 19 20]]\n"
     ]
    }
   ],
   "source": [
    "print(array_example_index[1:3,:])"
   ]
  },
  {
   "cell_type": "code",
   "execution_count": 22,
   "id": "34849f73-c24c-4efe-a2b0-0421639bfe6f",
   "metadata": {},
   "outputs": [],
   "source": [
    "example_3d = np.arange(64).reshape(4,4,4)"
   ]
  },
  {
   "cell_type": "code",
   "execution_count": 23,
   "id": "4ca78e16-5e52-4916-88f5-130162860c14",
   "metadata": {},
   "outputs": [
    {
     "name": "stdout",
     "output_type": "stream",
     "text": [
      "[[[ 0  1  2  3]\n",
      "  [ 4  5  6  7]\n",
      "  [ 8  9 10 11]\n",
      "  [12 13 14 15]]\n",
      "\n",
      " [[16 17 18 19]\n",
      "  [20 21 22 23]\n",
      "  [24 25 26 27]\n",
      "  [28 29 30 31]]\n",
      "\n",
      " [[32 33 34 35]\n",
      "  [36 37 38 39]\n",
      "  [40 41 42 43]\n",
      "  [44 45 46 47]]\n",
      "\n",
      " [[48 49 50 51]\n",
      "  [52 53 54 55]\n",
      "  [56 57 58 59]\n",
      "  [60 61 62 63]]]\n"
     ]
    }
   ],
   "source": [
    "print(example_3d)"
   ]
  },
  {
   "cell_type": "code",
   "execution_count": 25,
   "id": "150ae86b-4e46-462b-83cb-c8eaa8480c1d",
   "metadata": {},
   "outputs": [
    {
     "name": "stdout",
     "output_type": "stream",
     "text": [
      "27\n"
     ]
    }
   ],
   "source": [
    "print(example_3d[1,2,3])"
   ]
  },
  {
   "cell_type": "code",
   "execution_count": 27,
   "id": "ada05431-5e7b-48bd-97f5-94e26882ba3d",
   "metadata": {},
   "outputs": [
    {
     "name": "stdout",
     "output_type": "stream",
     "text": [
      "[[48 49 50 51]\n",
      " [52 53 54 55]\n",
      " [56 57 58 59]\n",
      " [60 61 62 63]]\n"
     ]
    }
   ],
   "source": [
    "print(example_3d[3, ...])"
   ]
  },
  {
   "cell_type": "code",
   "execution_count": 29,
   "id": "55bfbb65-d99d-415b-b378-9747f42f64cc",
   "metadata": {},
   "outputs": [
    {
     "name": "stdout",
     "output_type": "stream",
     "text": [
      "[[32 33 34 35]]\n"
     ]
    }
   ],
   "source": [
    "print(example_3d[2,0:1, ...])"
   ]
  },
  {
   "cell_type": "markdown",
   "id": "7b3ed01c-e0ba-4189-86d2-8696b725a067",
   "metadata": {},
   "source": [
    "Iteration matriz"
   ]
  },
  {
   "cell_type": "code",
   "execution_count": 30,
   "id": "b8326d2a-09f7-4639-8114-5ad59c6fa03a",
   "metadata": {},
   "outputs": [
    {
     "name": "stdout",
     "output_type": "stream",
     "text": [
      "0\n",
      "1\n",
      "2\n",
      "3\n",
      "4\n",
      "5\n",
      "6\n",
      "7\n",
      "8\n",
      "9\n",
      "10\n",
      "11\n",
      "12\n",
      "13\n",
      "14\n",
      "15\n",
      "16\n",
      "17\n",
      "18\n",
      "19\n",
      "20\n",
      "21\n",
      "22\n",
      "23\n",
      "24\n",
      "25\n",
      "26\n",
      "27\n",
      "28\n",
      "29\n",
      "30\n",
      "31\n",
      "32\n",
      "33\n",
      "34\n",
      "35\n",
      "36\n",
      "37\n",
      "38\n",
      "39\n",
      "40\n",
      "41\n",
      "42\n",
      "43\n",
      "44\n",
      "45\n",
      "46\n",
      "47\n",
      "48\n",
      "49\n",
      "50\n",
      "51\n",
      "52\n",
      "53\n",
      "54\n",
      "55\n",
      "56\n",
      "57\n",
      "58\n",
      "59\n",
      "60\n",
      "61\n",
      "62\n",
      "63\n"
     ]
    }
   ],
   "source": [
    "for element in example_3d.flat:\n",
    "    print(element)"
   ]
  },
  {
   "cell_type": "raw",
   "id": "80fe531a-cd5e-4530-aeff-b30aa0159808",
   "metadata": {},
   "source": [
    "Itertion matriz for raw"
   ]
  },
  {
   "cell_type": "code",
   "execution_count": 31,
   "id": "7ca9170c-f336-4e87-82dc-ba189bf3335e",
   "metadata": {},
   "outputs": [
    {
     "name": "stdout",
     "output_type": "stream",
     "text": [
      "[[ 0  1  2  3]\n",
      " [ 4  5  6  7]\n",
      " [ 8  9 10 11]\n",
      " [12 13 14 15]]\n",
      "[[16 17 18 19]\n",
      " [20 21 22 23]\n",
      " [24 25 26 27]\n",
      " [28 29 30 31]]\n",
      "[[32 33 34 35]\n",
      " [36 37 38 39]\n",
      " [40 41 42 43]\n",
      " [44 45 46 47]]\n",
      "[[48 49 50 51]\n",
      " [52 53 54 55]\n",
      " [56 57 58 59]\n",
      " [60 61 62 63]]\n"
     ]
    }
   ],
   "source": [
    "for row in example_3d:\n",
    "    print(row)"
   ]
  }
 ],
 "metadata": {
  "kernelspec": {
   "display_name": "Python 3 (ipykernel)",
   "language": "python",
   "name": "python3"
  },
  "language_info": {
   "codemirror_mode": {
    "name": "ipython",
    "version": 3
   },
   "file_extension": ".py",
   "mimetype": "text/x-python",
   "name": "python",
   "nbconvert_exporter": "python",
   "pygments_lexer": "ipython3",
   "version": "3.9.7"
  }
 },
 "nbformat": 4,
 "nbformat_minor": 5
}
