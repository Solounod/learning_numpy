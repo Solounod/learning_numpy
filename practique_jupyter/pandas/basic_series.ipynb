{
 "cells": [
  {
   "cell_type": "code",
   "execution_count": 2,
   "id": "6a2876f3-a126-4958-80d6-c24d849a1b70",
   "metadata": {},
   "outputs": [],
   "source": [
    "import pandas as pd"
   ]
  },
  {
   "cell_type": "raw",
   "id": "019e350d-a306-4403-8c42-409a0e80269b",
   "metadata": {},
   "source": [
    "Create object series, and print your index and value"
   ]
  },
  {
   "cell_type": "code",
   "execution_count": 4,
   "id": "bd22c3c9-cedd-4f67-91bd-a19978b6180d",
   "metadata": {},
   "outputs": [
    {
     "name": "stdout",
     "output_type": "stream",
     "text": [
      "0    1\n",
      "1    2\n",
      "2    3\n",
      "3    4\n",
      "4    5\n",
      "5    6\n",
      "6    7\n",
      "7    8\n",
      "dtype: int64\n"
     ]
    }
   ],
   "source": [
    "s = pd.Series([1, 2, 3, 4, 5, 6 , 7, 8])\n",
    "print(s)"
   ]
  },
  {
   "cell_type": "code",
   "execution_count": 12,
   "id": "e709edf2-a306-4dab-952f-d8908aa918cc",
   "metadata": {},
   "outputs": [
    {
     "data": {
      "text/plain": [
       "Juan         70\n",
       "Alicia       56\n",
       "Roberto      68\n",
       "Juaquina     89\n",
       "Eduardo     123\n",
       "Marcos       45\n",
       "Julia        57\n",
       "dtype: int64"
      ]
     },
     "execution_count": 12,
     "metadata": {},
     "output_type": "execute_result"
    }
   ],
   "source": [
    "peso = {\"Juan\": 70, \"Alicia\":56, \"Roberto\":68, \"Juaquina\":89, \"Eduardo\":123, \"Marcos\":45, \"Julia\":57}\n",
    "serie_weight = pd.Series(peso)\n",
    "serie_weight\n"
   ]
  },
  {
   "cell_type": "code",
   "execution_count": 13,
   "id": "3579bb6b-d1b1-4930-9bfc-f2c5dbebb965",
   "metadata": {},
   "outputs": [
    {
     "data": {
      "text/plain": [
       "508"
      ]
     },
     "execution_count": 13,
     "metadata": {},
     "output_type": "execute_result"
    }
   ],
   "source": [
    "sum(serie_weight) #sum values serie_weight"
   ]
  },
  {
   "cell_type": "code",
   "execution_count": 14,
   "id": "1cb4e800-1634-4195-acf0-a5d2c19164b8",
   "metadata": {},
   "outputs": [
    {
     "name": "stdout",
     "output_type": "stream",
     "text": [
      "72.57142857142857\n",
      "68.0\n"
     ]
    }
   ],
   "source": [
    "import numpy as np\n",
    "print(np.mean(serie_weight))\n",
    "print(np.median(serie_weight))\n"
   ]
  },
  {
   "cell_type": "code",
   "execution_count": 16,
   "id": "eada9b3c-1703-4d59-a70f-e80186066227",
   "metadata": {},
   "outputs": [
    {
     "name": "stdout",
     "output_type": "stream",
     "text": [
      "Marcos    45\n",
      "Julia     57\n",
      "dtype: int64\n"
     ]
    }
   ],
   "source": [
    "#prints by index indicated in the series\n",
    "index_weight = pd.Series(serie_weight, index=[\"Marcos\", \"Julia\"])\n",
    "print(index_weight)"
   ]
  },
  {
   "cell_type": "markdown",
   "id": "3d5565de-b3a3-4e27-9eda-745309c394a0",
   "metadata": {},
   "source": [
    "Access element object by index"
   ]
  },
  {
   "cell_type": "code",
   "execution_count": 17,
   "id": "89be0583-15c4-4108-863d-51a6c1819aa9",
   "metadata": {},
   "outputs": [
    {
     "data": {
      "text/plain": [
       "70"
      ]
     },
     "execution_count": 17,
     "metadata": {},
     "output_type": "execute_result"
    }
   ],
   "source": [
    "serie_weight[\"Juan\"]"
   ]
  },
  {
   "cell_type": "code",
   "execution_count": 19,
   "id": "55d86c90-0b63-4702-897d-e132c3239921",
   "metadata": {},
   "outputs": [
    {
     "data": {
      "text/plain": [
       "68"
      ]
     },
     "execution_count": 19,
     "metadata": {},
     "output_type": "execute_result"
    }
   ],
   "source": [
    "serie_weight.loc[\"Roberto\"]"
   ]
  },
  {
   "cell_type": "code",
   "execution_count": 20,
   "id": "5fcd85f1-7239-425e-b4ea-67557c8a345d",
   "metadata": {},
   "outputs": [
    {
     "data": {
      "text/plain": [
       "68"
      ]
     },
     "execution_count": 20,
     "metadata": {},
     "output_type": "execute_result"
    }
   ],
   "source": [
    "serie_weight.iloc[2] #positional index"
   ]
  },
  {
   "cell_type": "code",
   "execution_count": 21,
   "id": "00de920b-be36-4522-9fa5-99d9398368ec",
   "metadata": {},
   "outputs": [
    {
     "data": {
      "text/plain": [
       "Alicia      56\n",
       "Roberto     68\n",
       "Juaquina    89\n",
       "dtype: int64"
      ]
     },
     "execution_count": 21,
     "metadata": {},
     "output_type": "execute_result"
    }
   ],
   "source": [
    "serie_weight.iloc[1:4] #positional index"
   ]
  },
  {
   "cell_type": "code",
   "execution_count": 33,
   "id": "865c1952-0124-47c5-be94-d9441590847f",
   "metadata": {},
   "outputs": [
    {
     "data": {
      "text/plain": [
       "Juan        2.8561\n",
       "Alicia      3.1684\n",
       "Roberto     2.9929\n",
       "Juaquina    2.8561\n",
       "Eduardo     2.9584\n",
       "Marcos      3.2761\n",
       "Julia       2.9584\n",
       "dtype: float64"
      ]
     },
     "execution_count": 33,
     "metadata": {},
     "output_type": "execute_result"
    }
   ],
   "source": [
    "height = np.array([1.69, 1.78, 1.73, 1.69, 1.72, 1.81, 1.72])#array with height peoples\n",
    "height_square = pd.Series(height**2, index=[\"Juan\", \"Alicia\", \"Roberto\", \"Juaquina\", \"Eduardo\", \"Marcos\", \"Julia\"])#series peoples square \n",
    "height_square"
   ]
  },
  {
   "cell_type": "code",
   "execution_count": 34,
   "id": "61987178-cbec-4728-b2ce-8192fafb7c87",
   "metadata": {},
   "outputs": [
    {
     "data": {
      "text/plain": [
       "Juan        24.508946\n",
       "Alicia      17.674536\n",
       "Roberto     22.720438\n",
       "Juaquina    31.161374\n",
       "Eduardo     41.576528\n",
       "Marcos      13.735844\n",
       "Julia       19.267171\n",
       "dtype: float64"
      ]
     },
     "execution_count": 34,
     "metadata": {},
     "output_type": "execute_result"
    }
   ],
   "source": [
    "imc = serie_weight / height_square #imc\n",
    "imc"
   ]
  },
  {
   "cell_type": "code",
   "execution_count": 35,
   "id": "80cfcef3-2869-486a-b489-f8db0604d32f",
   "metadata": {},
   "outputs": [
    {
     "data": {
      "image/png": "[encoded data removed]",
      "text/plain": [
       "<Figure size 640x480 with 1 Axes>"
      ]
     },
     "metadata": {},
     "output_type": "display_data"
    }
   ],
   "source": [
    "import matplotlib.pyplot as plt\n",
    "imc.plot()\n",
    "plt.show()"
   ]
  },
  {
   "cell_type": "code",
   "execution_count": null,
   "id": "614ada31-281d-4cc9-98d4-42ecb8d2473d",
   "metadata": {},
   "outputs": [],
   "source": []
  }
 ],
 "metadata": {
  "kernelspec": {
   "display_name": "Python 3 (ipykernel)",
   "language": "python",
   "name": "python3"
  },
  "language_info": {
   "codemirror_mode": {
    "name": "ipython",
    "version": 3
   },
   "file_extension": ".py",
   "mimetype": "text/x-python",
   "name": "python",
   "nbconvert_exporter": "python",
   "pygments_lexer": "ipython3",
   "version": "3.9.7"
  }
 },
 "nbformat": 4,
 "nbformat_minor": 5
}
