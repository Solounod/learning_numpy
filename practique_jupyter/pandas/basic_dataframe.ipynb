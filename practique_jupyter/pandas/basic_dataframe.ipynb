{
 "cells": [
  {
   "cell_type": "markdown",
   "id": "7b5968ff-eee7-420e-9b27-e4a1b672bef0",
   "metadata": {},
   "source": [
    "Create a dataframe starting from a dictionary"
   ]
  },
  {
   "cell_type": "code",
   "execution_count": 4,
   "id": "5c2feb66-22c0-4293-8644-295382487859",
   "metadata": {},
   "outputs": [],
   "source": [
    "import pandas as pd"
   ]
  },
  {
   "cell_type": "code",
   "execution_count": 5,
   "id": "37b957df-091a-4147-8a59-e178649762ff",
   "metadata": {},
   "outputs": [
    {
     "data": {
      "text/html": [
       "<div>\n",
       "<style scoped>\n",
       "    .dataframe tbody tr th:only-of-type {\n",
       "        vertical-align: middle;\n",
       "    }\n",
       "\n",
       "    .dataframe tbody tr th {\n",
       "        vertical-align: top;\n",
       "    }\n",
       "\n",
       "    .dataframe thead th {\n",
       "        text-align: right;\n",
       "    }\n",
       "</style>\n",
       "<table border=\"1\" class=\"dataframe\">\n",
       "  <thead>\n",
       "    <tr style=\"text-align: right;\">\n",
       "      <th></th>\n",
       "      <th>weight</th>\n",
       "      <th>height</th>\n",
       "    </tr>\n",
       "  </thead>\n",
       "  <tbody>\n",
       "    <tr>\n",
       "      <th>Jose</th>\n",
       "      <td>67</td>\n",
       "      <td>1.70</td>\n",
       "    </tr>\n",
       "    <tr>\n",
       "      <th>Anibal</th>\n",
       "      <td>68</td>\n",
       "      <td>1.67</td>\n",
       "    </tr>\n",
       "    <tr>\n",
       "      <th>Rodolfo</th>\n",
       "      <td>56</td>\n",
       "      <td>1.69</td>\n",
       "    </tr>\n",
       "    <tr>\n",
       "      <th>Margarita</th>\n",
       "      <td>78</td>\n",
       "      <td>1.70</td>\n",
       "    </tr>\n",
       "    <tr>\n",
       "      <th>Carolina</th>\n",
       "      <td>45</td>\n",
       "      <td>1.56</td>\n",
       "    </tr>\n",
       "    <tr>\n",
       "      <th>Augusto</th>\n",
       "      <td>68</td>\n",
       "      <td>1.65</td>\n",
       "    </tr>\n",
       "    <tr>\n",
       "      <th>Juan</th>\n",
       "      <td>89</td>\n",
       "      <td>1.79</td>\n",
       "    </tr>\n",
       "    <tr>\n",
       "      <th>Alberto</th>\n",
       "      <td>102</td>\n",
       "      <td>1.78</td>\n",
       "    </tr>\n",
       "  </tbody>\n",
       "</table>\n",
       "</div>"
      ],
      "text/plain": [
       "           weight  height\n",
       "Jose           67    1.70\n",
       "Anibal         68    1.67\n",
       "Rodolfo        56    1.69\n",
       "Margarita      78    1.70\n",
       "Carolina       45    1.56\n",
       "Augusto        68    1.65\n",
       "Juan           89    1.79\n",
       "Alberto       102    1.78"
      ]
     },
     "execution_count": 5,
     "metadata": {},
     "output_type": "execute_result"
    }
   ],
   "source": [
    "student = {\n",
    "    \"weight\": pd.Series([67, 68, 56, 78, 45, 68, 89, 102], [\"Jose\", \"Anibal\", \"Rodolfo\", \"Margarita\", \"Carolina\", \"Augusto\", \"Juan\", \"Alberto\"]),\n",
    "    \"height\": pd.Series({\"Jose\":1.70, \"Anibal\":1.67, \"Rodolfo\":1.69, \"Margarita\":1.70, \"Carolina\":1.56, \"Augusto\":1.65, \"Juan\":1.79, \"Alberto\":1.78})\n",
    "}\n",
    "\n",
    "dataframe_student = pd.DataFrame(student)\n",
    "dataframe_student"
   ]
  },
  {
   "cell_type": "code",
   "execution_count": 6,
   "id": "c4eb9996-1eff-455e-bbb2-778fb011ade6",
   "metadata": {},
   "outputs": [
    {
     "data": {
      "text/html": [
       "<div>\n",
       "<style scoped>\n",
       "    .dataframe tbody tr th:only-of-type {\n",
       "        vertical-align: middle;\n",
       "    }\n",
       "\n",
       "    .dataframe tbody tr th {\n",
       "        vertical-align: top;\n",
       "    }\n",
       "\n",
       "    .dataframe thead th {\n",
       "        text-align: right;\n",
       "    }\n",
       "</style>\n",
       "<table border=\"1\" class=\"dataframe\">\n",
       "  <thead>\n",
       "    <tr style=\"text-align: right;\">\n",
       "      <th></th>\n",
       "      <th>weight</th>\n",
       "      <th>height</th>\n",
       "    </tr>\n",
       "  </thead>\n",
       "  <tbody>\n",
       "    <tr>\n",
       "      <th>Jose</th>\n",
       "      <td>67</td>\n",
       "      <td>1.70</td>\n",
       "    </tr>\n",
       "    <tr>\n",
       "      <th>Rodolfo</th>\n",
       "      <td>56</td>\n",
       "      <td>1.69</td>\n",
       "    </tr>\n",
       "    <tr>\n",
       "      <th>Margarita</th>\n",
       "      <td>78</td>\n",
       "      <td>1.70</td>\n",
       "    </tr>\n",
       "  </tbody>\n",
       "</table>\n",
       "</div>"
      ],
      "text/plain": [
       "           weight  height\n",
       "Jose           67    1.70\n",
       "Rodolfo        56    1.69\n",
       "Margarita      78    1.70"
      ]
     },
     "execution_count": 6,
     "metadata": {},
     "output_type": "execute_result"
    }
   ],
   "source": [
    "#filter from a dataframe\n",
    "filter_df_student = pd.DataFrame(student, columns=[\"weight\", \"height\"], index=[\"Jose\", \"Rodolfo\", \"Margarita\"])\n",
    "filter_df_student"
   ]
  },
  {
   "cell_type": "markdown",
   "id": "1628b6d1-73ca-4207-96de-bbde47693679",
   "metadata": {},
   "source": [
    "Access to data from the dataframe separately\n"
   ]
  },
  {
   "cell_type": "code",
   "execution_count": 7,
   "id": "0a4bdca0-5fc9-496d-99a5-efea4158b085",
   "metadata": {},
   "outputs": [
    {
     "data": {
      "text/plain": [
       "Jose          67\n",
       "Anibal        68\n",
       "Rodolfo       56\n",
       "Margarita     78\n",
       "Carolina      45\n",
       "Augusto       68\n",
       "Juan          89\n",
       "Alberto      102\n",
       "Name: weight, dtype: int64"
      ]
     },
     "execution_count": 7,
     "metadata": {},
     "output_type": "execute_result"
    }
   ],
   "source": [
    "dataframe_student[\"weight\"]"
   ]
  },
  {
   "cell_type": "code",
   "execution_count": 8,
   "id": "fa7f2a5f-ed9b-42c4-8073-12f1c04f89f4",
   "metadata": {},
   "outputs": [
    {
     "data": {
      "text/plain": [
       "Jose         1.70\n",
       "Anibal       1.67\n",
       "Rodolfo      1.69\n",
       "Margarita    1.70\n",
       "Carolina     1.56\n",
       "Augusto      1.65\n",
       "Juan         1.79\n",
       "Alberto      1.78\n",
       "Name: height, dtype: float64"
      ]
     },
     "execution_count": 8,
     "metadata": {},
     "output_type": "execute_result"
    }
   ],
   "source": [
    "dataframe_student[\"height\"]"
   ]
  },
  {
   "cell_type": "code",
   "execution_count": 9,
   "id": "b30956d9-8d83-4726-b088-51843b1b1d65",
   "metadata": {},
   "outputs": [
    {
     "data": {
      "text/html": [
       "<div>\n",
       "<style scoped>\n",
       "    .dataframe tbody tr th:only-of-type {\n",
       "        vertical-align: middle;\n",
       "    }\n",
       "\n",
       "    .dataframe tbody tr th {\n",
       "        vertical-align: top;\n",
       "    }\n",
       "\n",
       "    .dataframe thead th {\n",
       "        text-align: right;\n",
       "    }\n",
       "</style>\n",
       "<table border=\"1\" class=\"dataframe\">\n",
       "  <thead>\n",
       "    <tr style=\"text-align: right;\">\n",
       "      <th></th>\n",
       "      <th>weight</th>\n",
       "      <th>height</th>\n",
       "    </tr>\n",
       "  </thead>\n",
       "  <tbody>\n",
       "    <tr>\n",
       "      <th>Juan</th>\n",
       "      <td>89</td>\n",
       "      <td>1.79</td>\n",
       "    </tr>\n",
       "    <tr>\n",
       "      <th>Alberto</th>\n",
       "      <td>102</td>\n",
       "      <td>1.78</td>\n",
       "    </tr>\n",
       "  </tbody>\n",
       "</table>\n",
       "</div>"
      ],
      "text/plain": [
       "         weight  height\n",
       "Juan         89    1.79\n",
       "Alberto     102    1.78"
      ]
     },
     "execution_count": 9,
     "metadata": {},
     "output_type": "execute_result"
    }
   ],
   "source": [
    "dataframe_student[dataframe_student[\"weight\"] > 80]#index boolean value"
   ]
  },
  {
   "cell_type": "code",
   "execution_count": 10,
   "id": "e4a44110-650a-4338-a4cf-39e6e1fedc75",
   "metadata": {},
   "outputs": [
    {
     "data": {
      "text/html": [
       "<div>\n",
       "<style scoped>\n",
       "    .dataframe tbody tr th:only-of-type {\n",
       "        vertical-align: middle;\n",
       "    }\n",
       "\n",
       "    .dataframe tbody tr th {\n",
       "        vertical-align: top;\n",
       "    }\n",
       "\n",
       "    .dataframe thead th {\n",
       "        text-align: right;\n",
       "    }\n",
       "</style>\n",
       "<table border=\"1\" class=\"dataframe\">\n",
       "  <thead>\n",
       "    <tr style=\"text-align: right;\">\n",
       "      <th></th>\n",
       "      <th>weight</th>\n",
       "      <th>height</th>\n",
       "    </tr>\n",
       "  </thead>\n",
       "  <tbody>\n",
       "    <tr>\n",
       "      <th>Jose</th>\n",
       "      <td>67</td>\n",
       "      <td>1.70</td>\n",
       "    </tr>\n",
       "    <tr>\n",
       "      <th>Anibal</th>\n",
       "      <td>68</td>\n",
       "      <td>1.67</td>\n",
       "    </tr>\n",
       "    <tr>\n",
       "      <th>Margarita</th>\n",
       "      <td>78</td>\n",
       "      <td>1.70</td>\n",
       "    </tr>\n",
       "    <tr>\n",
       "      <th>Juan</th>\n",
       "      <td>89</td>\n",
       "      <td>1.79</td>\n",
       "    </tr>\n",
       "    <tr>\n",
       "      <th>Alberto</th>\n",
       "      <td>102</td>\n",
       "      <td>1.78</td>\n",
       "    </tr>\n",
       "  </tbody>\n",
       "</table>\n",
       "</div>"
      ],
      "text/plain": [
       "           weight  height\n",
       "Jose           67    1.70\n",
       "Anibal         68    1.67\n",
       "Margarita      78    1.70\n",
       "Juan           89    1.79\n",
       "Alberto       102    1.78"
      ]
     },
     "execution_count": 10,
     "metadata": {},
     "output_type": "execute_result"
    }
   ],
   "source": [
    "dataframe_student[(dataframe_student[\"weight\"] > 65) & (dataframe_student[\"height\"] > 1.65)] #index boolean"
   ]
  },
  {
   "cell_type": "code",
   "execution_count": 11,
   "id": "ae3cb1c8-4f29-4fd4-9546-7689a3cffb81",
   "metadata": {},
   "outputs": [
    {
     "data": {
      "text/plain": [
       "weight    78.0\n",
       "height     1.7\n",
       "Name: Margarita, dtype: float64"
      ]
     },
     "execution_count": 11,
     "metadata": {},
     "output_type": "execute_result"
    }
   ],
   "source": [
    "dataframe_student.loc[\"Margarita\"] #index row"
   ]
  },
  {
   "cell_type": "code",
   "execution_count": 12,
   "id": "03d08976-28ff-48b8-b488-945b36fc2843",
   "metadata": {},
   "outputs": [
    {
     "data": {
      "text/html": [
       "<div>\n",
       "<style scoped>\n",
       "    .dataframe tbody tr th:only-of-type {\n",
       "        vertical-align: middle;\n",
       "    }\n",
       "\n",
       "    .dataframe tbody tr th {\n",
       "        vertical-align: top;\n",
       "    }\n",
       "\n",
       "    .dataframe thead th {\n",
       "        text-align: right;\n",
       "    }\n",
       "</style>\n",
       "<table border=\"1\" class=\"dataframe\">\n",
       "  <thead>\n",
       "    <tr style=\"text-align: right;\">\n",
       "      <th></th>\n",
       "      <th>weight</th>\n",
       "      <th>height</th>\n",
       "    </tr>\n",
       "  </thead>\n",
       "  <tbody>\n",
       "    <tr>\n",
       "      <th>Margarita</th>\n",
       "      <td>78</td>\n",
       "      <td>1.70</td>\n",
       "    </tr>\n",
       "    <tr>\n",
       "      <th>Carolina</th>\n",
       "      <td>45</td>\n",
       "      <td>1.56</td>\n",
       "    </tr>\n",
       "  </tbody>\n",
       "</table>\n",
       "</div>"
      ],
      "text/plain": [
       "           weight  height\n",
       "Margarita      78    1.70\n",
       "Carolina       45    1.56"
      ]
     },
     "execution_count": 12,
     "metadata": {},
     "output_type": "execute_result"
    }
   ],
   "source": [
    "dataframe_student.iloc[3:5]#index row section "
   ]
  },
  {
   "cell_type": "code",
   "execution_count": 13,
   "id": "b16000bf-2409-4ee6-980b-d680221b064c",
   "metadata": {},
   "outputs": [
    {
     "data": {
      "text/html": [
       "<div>\n",
       "<style scoped>\n",
       "    .dataframe tbody tr th:only-of-type {\n",
       "        vertical-align: middle;\n",
       "    }\n",
       "\n",
       "    .dataframe tbody tr th {\n",
       "        vertical-align: top;\n",
       "    }\n",
       "\n",
       "    .dataframe thead th {\n",
       "        text-align: right;\n",
       "    }\n",
       "</style>\n",
       "<table border=\"1\" class=\"dataframe\">\n",
       "  <thead>\n",
       "    <tr style=\"text-align: right;\">\n",
       "      <th></th>\n",
       "      <th>weight</th>\n",
       "      <th>height</th>\n",
       "    </tr>\n",
       "  </thead>\n",
       "  <tbody>\n",
       "    <tr>\n",
       "      <th>Jose</th>\n",
       "      <td>67</td>\n",
       "      <td>1.70</td>\n",
       "    </tr>\n",
       "    <tr>\n",
       "      <th>Margarita</th>\n",
       "      <td>78</td>\n",
       "      <td>1.70</td>\n",
       "    </tr>\n",
       "    <tr>\n",
       "      <th>Juan</th>\n",
       "      <td>89</td>\n",
       "      <td>1.79</td>\n",
       "    </tr>\n",
       "    <tr>\n",
       "      <th>Alberto</th>\n",
       "      <td>102</td>\n",
       "      <td>1.78</td>\n",
       "    </tr>\n",
       "  </tbody>\n",
       "</table>\n",
       "</div>"
      ],
      "text/plain": [
       "           weight  height\n",
       "Jose           67    1.70\n",
       "Margarita      78    1.70\n",
       "Juan           89    1.79\n",
       "Alberto       102    1.78"
      ]
     },
     "execution_count": 13,
     "metadata": {},
     "output_type": "execute_result"
    }
   ],
   "source": [
    "dataframe_student.query(\"weight >= 65 and height >= 1.70\")"
   ]
  },
  {
   "cell_type": "code",
   "execution_count": 14,
   "id": "4f356454-c2a9-465d-97b2-4cadf3548d53",
   "metadata": {},
   "outputs": [],
   "source": [
    "df_s = dataframe_student.copy()#copy dataframe_student ==> df_s"
   ]
  },
  {
   "cell_type": "code",
   "execution_count": 15,
   "id": "a259cd5b-2aac-442f-bd9d-8a8224484366",
   "metadata": {},
   "outputs": [
    {
     "data": {
      "text/html": [
       "<div>\n",
       "<style scoped>\n",
       "    .dataframe tbody tr th:only-of-type {\n",
       "        vertical-align: middle;\n",
       "    }\n",
       "\n",
       "    .dataframe tbody tr th {\n",
       "        vertical-align: top;\n",
       "    }\n",
       "\n",
       "    .dataframe thead th {\n",
       "        text-align: right;\n",
       "    }\n",
       "</style>\n",
       "<table border=\"1\" class=\"dataframe\">\n",
       "  <thead>\n",
       "    <tr style=\"text-align: right;\">\n",
       "      <th></th>\n",
       "      <th>weight</th>\n",
       "      <th>height</th>\n",
       "      <th>IMC</th>\n",
       "    </tr>\n",
       "  </thead>\n",
       "  <tbody>\n",
       "    <tr>\n",
       "      <th>Jose</th>\n",
       "      <td>67</td>\n",
       "      <td>1.70</td>\n",
       "      <td>23.183391</td>\n",
       "    </tr>\n",
       "    <tr>\n",
       "      <th>Anibal</th>\n",
       "      <td>68</td>\n",
       "      <td>1.67</td>\n",
       "      <td>24.382373</td>\n",
       "    </tr>\n",
       "    <tr>\n",
       "      <th>Rodolfo</th>\n",
       "      <td>56</td>\n",
       "      <td>1.69</td>\n",
       "      <td>19.607157</td>\n",
       "    </tr>\n",
       "    <tr>\n",
       "      <th>Margarita</th>\n",
       "      <td>78</td>\n",
       "      <td>1.70</td>\n",
       "      <td>26.989619</td>\n",
       "    </tr>\n",
       "    <tr>\n",
       "      <th>Carolina</th>\n",
       "      <td>45</td>\n",
       "      <td>1.56</td>\n",
       "      <td>18.491124</td>\n",
       "    </tr>\n",
       "    <tr>\n",
       "      <th>Augusto</th>\n",
       "      <td>68</td>\n",
       "      <td>1.65</td>\n",
       "      <td>24.977043</td>\n",
       "    </tr>\n",
       "    <tr>\n",
       "      <th>Juan</th>\n",
       "      <td>89</td>\n",
       "      <td>1.79</td>\n",
       "      <td>27.776911</td>\n",
       "    </tr>\n",
       "    <tr>\n",
       "      <th>Alberto</th>\n",
       "      <td>102</td>\n",
       "      <td>1.78</td>\n",
       "      <td>32.192905</td>\n",
       "    </tr>\n",
       "  </tbody>\n",
       "</table>\n",
       "</div>"
      ],
      "text/plain": [
       "           weight  height        IMC\n",
       "Jose           67    1.70  23.183391\n",
       "Anibal         68    1.67  24.382373\n",
       "Rodolfo        56    1.69  19.607157\n",
       "Margarita      78    1.70  26.989619\n",
       "Carolina       45    1.56  18.491124\n",
       "Augusto        68    1.65  24.977043\n",
       "Juan           89    1.79  27.776911\n",
       "Alberto       102    1.78  32.192905"
      ]
     },
     "execution_count": 15,
     "metadata": {},
     "output_type": "execute_result"
    }
   ],
   "source": [
    "df_s[\"IMC\"] = df_s[\"weight\"] / df_s[\"height\"]**2 #add new column and operation imc\n",
    "df_s"
   ]
  },
  {
   "cell_type": "code",
   "execution_count": 19,
   "id": "15edcb20-59bc-4b00-9e3c-da5e1ddb114b",
   "metadata": {},
   "outputs": [
    {
     "data": {
      "text/html": [
       "<div>\n",
       "<style scoped>\n",
       "    .dataframe tbody tr th:only-of-type {\n",
       "        vertical-align: middle;\n",
       "    }\n",
       "\n",
       "    .dataframe tbody tr th {\n",
       "        vertical-align: top;\n",
       "    }\n",
       "\n",
       "    .dataframe thead th {\n",
       "        text-align: right;\n",
       "    }\n",
       "</style>\n",
       "<table border=\"1\" class=\"dataframe\">\n",
       "  <thead>\n",
       "    <tr style=\"text-align: right;\">\n",
       "      <th></th>\n",
       "      <th>weight</th>\n",
       "      <th>height</th>\n",
       "      <th>IMC</th>\n",
       "      <th>classification</th>\n",
       "    </tr>\n",
       "  </thead>\n",
       "  <tbody>\n",
       "    <tr>\n",
       "      <th>Jose</th>\n",
       "      <td>67</td>\n",
       "      <td>1.70</td>\n",
       "      <td>23.183391</td>\n",
       "      <td>appropriate</td>\n",
       "    </tr>\n",
       "    <tr>\n",
       "      <th>Anibal</th>\n",
       "      <td>68</td>\n",
       "      <td>1.67</td>\n",
       "      <td>24.382373</td>\n",
       "      <td>appropriate</td>\n",
       "    </tr>\n",
       "    <tr>\n",
       "      <th>Rodolfo</th>\n",
       "      <td>56</td>\n",
       "      <td>1.69</td>\n",
       "      <td>19.607157</td>\n",
       "      <td>appropriate</td>\n",
       "    </tr>\n",
       "    <tr>\n",
       "      <th>Margarita</th>\n",
       "      <td>78</td>\n",
       "      <td>1.70</td>\n",
       "      <td>26.989619</td>\n",
       "      <td>overweight</td>\n",
       "    </tr>\n",
       "    <tr>\n",
       "      <th>Carolina</th>\n",
       "      <td>45</td>\n",
       "      <td>1.56</td>\n",
       "      <td>18.491124</td>\n",
       "      <td>under weight</td>\n",
       "    </tr>\n",
       "    <tr>\n",
       "      <th>Augusto</th>\n",
       "      <td>68</td>\n",
       "      <td>1.65</td>\n",
       "      <td>24.977043</td>\n",
       "      <td>appropriate</td>\n",
       "    </tr>\n",
       "    <tr>\n",
       "      <th>Juan</th>\n",
       "      <td>89</td>\n",
       "      <td>1.79</td>\n",
       "      <td>27.776911</td>\n",
       "      <td>overweight</td>\n",
       "    </tr>\n",
       "    <tr>\n",
       "      <th>Alberto</th>\n",
       "      <td>102</td>\n",
       "      <td>1.78</td>\n",
       "      <td>32.192905</td>\n",
       "      <td>grade 1 obesity</td>\n",
       "    </tr>\n",
       "  </tbody>\n",
       "</table>\n",
       "</div>"
      ],
      "text/plain": [
       "           weight  height        IMC   classification\n",
       "Jose           67    1.70  23.183391      appropriate\n",
       "Anibal         68    1.67  24.382373      appropriate\n",
       "Rodolfo        56    1.69  19.607157      appropriate\n",
       "Margarita      78    1.70  26.989619       overweight\n",
       "Carolina       45    1.56  18.491124     under weight\n",
       "Augusto        68    1.65  24.977043      appropriate\n",
       "Juan           89    1.79  27.776911       overweight\n",
       "Alberto       102    1.78  32.192905  grade 1 obesity"
      ]
     },
     "execution_count": 19,
     "metadata": {},
     "output_type": "execute_result"
    }
   ],
   "source": [
    "def classification_imc(imc): #function conditional from imc classification\n",
    "    if 18.5 >= imc:\n",
    "        return \"under weight\"\n",
    "    elif 18.6 <= imc < 25.0:\n",
    "        return \"appropriate\"\n",
    "    elif 25.0 <= imc < 30.0:\n",
    "        return \"overweight\"\n",
    "    elif 30.0 <= imc < 35.0:\n",
    "        return \"grade 1 obesity\"\n",
    "    elif 35.0 <= imc < 40.0:\n",
    "        return \"grade 2 obesity\"\n",
    "    elif 40.0 < imc:\n",
    "        return \"grade 3 obesity\"\n",
    "\n",
    "df_s[\"classification\"] = df_s[\"IMC\"].apply(classification_imc) #apply function from classification and assing column\n",
    "df_s  "
   ]
  },
  {
   "cell_type": "code",
   "execution_count": 21,
   "id": "c248aa4e-f83e-4469-8ef3-eda86080e249",
   "metadata": {},
   "outputs": [],
   "source": [
    "#download dataframe in csv, html, json\n",
    "df_s.to_csv(\"df_student.csv\")\n",
    "df_s.to_html(\"df_student.htm\")\n",
    "df_s.to_json(\"df_student.json\")"
   ]
  },
  {
   "cell_type": "code",
   "execution_count": 22,
   "id": "26c5a303-7afd-4524-a538-9a0d07d621cc",
   "metadata": {},
   "outputs": [
    {
     "data": {
      "text/html": [
       "<div>\n",
       "<style scoped>\n",
       "    .dataframe tbody tr th:only-of-type {\n",
       "        vertical-align: middle;\n",
       "    }\n",
       "\n",
       "    .dataframe tbody tr th {\n",
       "        vertical-align: top;\n",
       "    }\n",
       "\n",
       "    .dataframe thead th {\n",
       "        text-align: right;\n",
       "    }\n",
       "</style>\n",
       "<table border=\"1\" class=\"dataframe\">\n",
       "  <thead>\n",
       "    <tr style=\"text-align: right;\">\n",
       "      <th></th>\n",
       "      <th>weight</th>\n",
       "      <th>height</th>\n",
       "      <th>IMC</th>\n",
       "      <th>classification</th>\n",
       "    </tr>\n",
       "  </thead>\n",
       "  <tbody>\n",
       "    <tr>\n",
       "      <th>Jose</th>\n",
       "      <td>67</td>\n",
       "      <td>1.70</td>\n",
       "      <td>23.183391</td>\n",
       "      <td>appropriate</td>\n",
       "    </tr>\n",
       "    <tr>\n",
       "      <th>Anibal</th>\n",
       "      <td>68</td>\n",
       "      <td>1.67</td>\n",
       "      <td>24.382373</td>\n",
       "      <td>appropriate</td>\n",
       "    </tr>\n",
       "    <tr>\n",
       "      <th>Rodolfo</th>\n",
       "      <td>56</td>\n",
       "      <td>1.69</td>\n",
       "      <td>19.607157</td>\n",
       "      <td>appropriate</td>\n",
       "    </tr>\n",
       "    <tr>\n",
       "      <th>Margarita</th>\n",
       "      <td>78</td>\n",
       "      <td>1.70</td>\n",
       "      <td>26.989619</td>\n",
       "      <td>overweight</td>\n",
       "    </tr>\n",
       "    <tr>\n",
       "      <th>Carolina</th>\n",
       "      <td>45</td>\n",
       "      <td>1.56</td>\n",
       "      <td>18.491124</td>\n",
       "      <td>under weight</td>\n",
       "    </tr>\n",
       "    <tr>\n",
       "      <th>Augusto</th>\n",
       "      <td>68</td>\n",
       "      <td>1.65</td>\n",
       "      <td>24.977043</td>\n",
       "      <td>appropriate</td>\n",
       "    </tr>\n",
       "    <tr>\n",
       "      <th>Juan</th>\n",
       "      <td>89</td>\n",
       "      <td>1.79</td>\n",
       "      <td>27.776911</td>\n",
       "      <td>overweight</td>\n",
       "    </tr>\n",
       "    <tr>\n",
       "      <th>Alberto</th>\n",
       "      <td>102</td>\n",
       "      <td>1.78</td>\n",
       "      <td>32.192905</td>\n",
       "      <td>grade 1 obesity</td>\n",
       "    </tr>\n",
       "  </tbody>\n",
       "</table>\n",
       "</div>"
      ],
      "text/plain": [
       "           weight  height        IMC   classification\n",
       "Jose           67    1.70  23.183391      appropriate\n",
       "Anibal         68    1.67  24.382373      appropriate\n",
       "Rodolfo        56    1.69  19.607157      appropriate\n",
       "Margarita      78    1.70  26.989619       overweight\n",
       "Carolina       45    1.56  18.491124     under weight\n",
       "Augusto        68    1.65  24.977043      appropriate\n",
       "Juan           89    1.79  27.776911       overweight\n",
       "Alberto       102    1.78  32.192905  grade 1 obesity"
      ]
     },
     "execution_count": 22,
     "metadata": {},
     "output_type": "execute_result"
    }
   ],
   "source": [
    "df_s2 = pd.read_csv(\"df_student.csv\", index_col=0)\n",
    "df_s2"
   ]
  },
  {
   "cell_type": "code",
   "execution_count": null,
   "id": "2ea91304-525d-47a4-a12c-8f5b47a10754",
   "metadata": {},
   "outputs": [],
   "source": []
  }
 ],
 "metadata": {
  "kernelspec": {
   "display_name": "Python 3 (ipykernel)",
   "language": "python",
   "name": "python3"
  },
  "language_info": {
   "codemirror_mode": {
    "name": "ipython",
    "version": 3
   },
   "file_extension": ".py",
   "mimetype": "text/x-python",
   "name": "python",
   "nbconvert_exporter": "python",
   "pygments_lexer": "ipython3",
   "version": "3.9.7"
  }
 },
 "nbformat": 4,
 "nbformat_minor": 5
}
