{
 "cells": [
  {
   "cell_type": "code",
   "execution_count": 7,
   "id": "191b9c5b-2357-443b-987e-e7592faad39a",
   "metadata": {},
   "outputs": [],
   "source": [
    "import numpy as np\n",
    "import random as rg"
   ]
  },
  {
   "cell_type": "code",
   "execution_count": 10,
   "id": "82a31336-f169-43c7-8833-1e402ceb5844",
   "metadata": {},
   "outputs": [],
   "source": [
    "new_matriz = np.floor(10 * np.random.random((3,4)))"
   ]
  },
  {
   "cell_type": "code",
   "execution_count": 11,
   "id": "394bebf3-c675-4ea1-9b2c-460d60d49f60",
   "metadata": {},
   "outputs": [
    {
     "name": "stdout",
     "output_type": "stream",
     "text": [
      "[[1. 5. 7. 7.]\n",
      " [7. 0. 9. 0.]\n",
      " [0. 1. 4. 8.]]\n"
     ]
    }
   ],
   "source": [
    "print(new_matriz)"
   ]
  },
  {
   "cell_type": "code",
   "execution_count": 13,
   "id": "0757dc89-c5b7-4b46-9d24-752c75f53e62",
   "metadata": {},
   "outputs": [
    {
     "name": "stdout",
     "output_type": "stream",
     "text": [
      "(3, 4)\n"
     ]
    }
   ],
   "source": [
    "print(new_matriz.shape)"
   ]
  },
  {
   "cell_type": "code",
   "execution_count": 14,
   "id": "2b49c86d-da16-44f8-9ede-02f7d3a96052",
   "metadata": {},
   "outputs": [
    {
     "name": "stdout",
     "output_type": "stream",
     "text": [
      "[1. 5. 7. 7. 7. 0. 9. 0. 0. 1. 4. 8.]\n"
     ]
    }
   ],
   "source": [
    "print(new_matriz.ravel())"
   ]
  },
  {
   "cell_type": "code",
   "execution_count": 16,
   "id": "ee7f704b-605d-4ee9-ac27-4d09ba190e45",
   "metadata": {},
   "outputs": [
    {
     "name": "stdout",
     "output_type": "stream",
     "text": [
      "[[1. 5. 7. 7. 7. 0.]\n",
      " [9. 0. 0. 1. 4. 8.]]\n"
     ]
    }
   ],
   "source": [
    "print(new_matriz.reshape(2, 6))"
   ]
  },
  {
   "cell_type": "code",
   "execution_count": 17,
   "id": "4914b9b2-cb8d-48b2-8549-7f24df2d9af2",
   "metadata": {},
   "outputs": [
    {
     "name": "stdout",
     "output_type": "stream",
     "text": [
      "[[1. 7. 0.]\n",
      " [5. 0. 1.]\n",
      " [7. 9. 4.]\n",
      " [7. 0. 8.]]\n"
     ]
    }
   ],
   "source": [
    "print(new_matriz.T)"
   ]
  },
  {
   "cell_type": "markdown",
   "id": "e04fe44a-608e-4209-8214-10afeb485509",
   "metadata": {},
   "source": [
    "Resize change matriz "
   ]
  },
  {
   "cell_type": "code",
   "execution_count": 22,
   "id": "119458cf-2a0e-41b2-ba51-1b6f015f34b2",
   "metadata": {},
   "outputs": [],
   "source": [
    "new_matriz.resize((2,6))"
   ]
  },
  {
   "cell_type": "code",
   "execution_count": 21,
   "id": "be07dfa2-a6b7-419c-b63f-369dc121b337",
   "metadata": {},
   "outputs": [
    {
     "name": "stdout",
     "output_type": "stream",
     "text": [
      "[[1. 5.]\n",
      " [7. 7.]\n",
      " [7. 0.]\n",
      " [9. 0.]\n",
      " [0. 1.]\n",
      " [4. 8.]]\n"
     ]
    }
   ],
   "source": [
    "print(new_matriz)"
   ]
  },
  {
   "cell_type": "code",
   "execution_count": null,
   "id": "4e1cffc9-7d61-4a62-907e-6828864256e0",
   "metadata": {},
   "outputs": [],
   "source": []
  },
  {
   "cell_type": "code",
   "execution_count": null,
   "id": "060d7cdf-6bd6-43eb-adbe-7cd93635746b",
   "metadata": {},
   "outputs": [],
   "source": []
  }
 ],
 "metadata": {
  "kernelspec": {
   "display_name": "Python 3 (ipykernel)",
   "language": "python",
   "name": "python3"
  },
  "language_info": {
   "codemirror_mode": {
    "name": "ipython",
    "version": 3
   },
   "file_extension": ".py",
   "mimetype": "text/x-python",
   "name": "python",
   "nbconvert_exporter": "python",
   "pygments_lexer": "ipython3",
   "version": "3.9.7"
  }
 },
 "nbformat": 4,
 "nbformat_minor": 5
}
