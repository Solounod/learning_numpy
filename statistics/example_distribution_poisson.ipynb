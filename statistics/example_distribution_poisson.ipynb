{
 "cells": [
  {
   "cell_type": "code",
   "execution_count": 1,
   "id": "92418b9b-bc85-45a0-8c7a-2d418dcdfe37",
   "metadata": {},
   "outputs": [],
   "source": [
    "import numpy as np"
   ]
  },
  {
   "cell_type": "code",
   "execution_count": 3,
   "id": "a0ed4be9-cc94-4176-905f-767355b5efa4",
   "metadata": {},
   "outputs": [
    {
     "data": {
      "text/plain": [
       "2.718281828459045"
      ]
     },
     "execution_count": 3,
     "metadata": {},
     "output_type": "execute_result"
    }
   ],
   "source": [
    "np.e"
   ]
  },
  {
   "cell_type": "markdown",
   "id": "023f7896-d3f0-4426-b3b1-dfc6c3f2215c",
   "metadata": {},
   "source": [
    "Problem : \n",
    "A restaurant receives an average of 20 orders per hour. What is the probability that, at a given time chosen at random, the restaurant receives 15 orders?"
   ]
  },
  {
   "cell_type": "markdown",
   "id": "993cf97b-ef22-4ffc-9d6d-eec291544de1",
   "metadata": {},
   "source": [
    "What is the average number of visits per hour (u)?"
   ]
  },
  {
   "cell_type": "code",
   "execution_count": 4,
   "id": "7fd95a1c-b1a0-4e07-90e0-44f64c085467",
   "metadata": {},
   "outputs": [],
   "source": [
    "middle = 20"
   ]
  },
  {
   "cell_type": "markdown",
   "id": "c0b32967-f853-4090-a6fe-8a0c5ef40b1e",
   "metadata": {},
   "source": [
    "How many occurrences do we want to obtain in the period (k)?"
   ]
  },
  {
   "cell_type": "code",
   "execution_count": 6,
   "id": "6557a640-ddb7-4b03-b7e8-a0a8f9f6571e",
   "metadata": {},
   "outputs": [],
   "source": [
    "k=15"
   ]
  },
  {
   "cell_type": "code",
   "execution_count": 10,
   "id": "66b3372d-fb5d-4976-b546-0dc03dc9380b",
   "metadata": {},
   "outputs": [
    {
     "name": "stdout",
     "output_type": "stream",
     "text": [
      "Manual solution: 0.0516488535317584\n"
     ]
    },
    {
     "name": "stderr",
     "output_type": "stream",
     "text": [
      "/tmp/ipykernel_8638/4182276112.py:1: DeprecationWarning: `np.math` is a deprecated alias for the standard library `math` module (Deprecated Numpy 1.25). Replace usages of `np.math` with `math`\n",
      "  probability = ((np.e)**(-middle))*(middle**k)/np.math.factorial(k)\n"
     ]
    }
   ],
   "source": [
    "probability = ((np.e)**(-middle))*(middle**k)/np.math.factorial(k)\n",
    "print(f\"Manual solution: {probability}\")"
   ]
  },
  {
   "cell_type": "code",
   "execution_count": 12,
   "id": "c5fe4478-25a1-46ca-a25b-7422c4bbd703",
   "metadata": {},
   "outputs": [
    {
     "name": "stdout",
     "output_type": "stream",
     "text": [
      "SOlution 2 with library scipy module poisson: 0.05164885353175814\n"
     ]
    }
   ],
   "source": [
    "from scipy.stats import poisson\n",
    "probability_solution2 = poisson.pmf(k, middle)\n",
    "print(f\"SOlution 2 with library scipy module poisson: {probability_solution2}\")"
   ]
  },
  {
   "cell_type": "markdown",
   "id": "84422b48-0bec-4e20-a222-0a10062d49b8",
   "metadata": {},
   "source": [
    "PROBLEM 2:\n",
    "In a certain part of the country, 1 in 50 children have accidentally broken a bone in their body by the age of 5. If 100 5-year-old children are chosen at random, what is the probability that exactly 4 of them have suffered? a fracture?"
   ]
  },
  {
   "cell_type": "code",
   "execution_count": null,
   "id": "21c57d12-7a16-4f78-a449-4a3b64cb580c",
   "metadata": {},
   "outputs": [],
   "source": [
    "middle_children = 2\n",
    "k_suffered = 4\n",
    "solution_probability = poisson.pmf(k_suffered, middle_children)\n",
    "solution_probability\n",
    "percentage_solution = solution_probability * 100\n",
    "print(f\"The percentage probability that 4 children will have an accident out of 100 is: {percentage_solution:{1}.{4}}%\")"
   ]
  },
  {
   "cell_type": "code",
   "execution_count": null,
   "id": "c4b93095-ca7f-40f9-a026-f695bac31dea",
   "metadata": {},
   "outputs": [],
   "source": []
  }
 ],
 "metadata": {
  "kernelspec": {
   "display_name": "Python 3 (ipykernel)",
   "language": "python",
   "name": "python3"
  },
  "language_info": {
   "codemirror_mode": {
    "name": "ipython",
    "version": 3
   },
   "file_extension": ".py",
   "mimetype": "text/x-python",
   "name": "python",
   "nbconvert_exporter": "python",
   "pygments_lexer": "ipython3",
   "version": "3.9.7"
  }
 },
 "nbformat": 4,
 "nbformat_minor": 5
}
