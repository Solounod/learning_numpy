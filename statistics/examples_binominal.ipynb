{
 "cells": [
  {
   "cell_type": "markdown",
   "id": "a23c6db8-6371-4b94-a89d-8d6c49d6e9cc",
   "metadata": {},
   "source": [
    "Suppose you want to study the number of women winners of a raffle that has been held,\n",
    "which has 10 prizes to distribute. 250 people participated in it, 100 of them\n",
    "They are women and the remaining 150 participants are men. From these, a sample is taken\n",
    "20 people to be studied."
   ]
  },
  {
   "cell_type": "markdown",
   "id": "a4e70276-2758-4ff9-b694-47b0738c8b63",
   "metadata": {},
   "source": [
    "What is the probability that exactly 5 women win the raffle?"
   ]
  },
  {
   "cell_type": "code",
   "execution_count": 1,
   "id": "9c6e13cd-c8cc-435e-b058-f294abf11335",
   "metadata": {},
   "outputs": [
    {
     "data": {
      "text/plain": [
       "0.0746470195288711"
      ]
     },
     "execution_count": 1,
     "metadata": {},
     "output_type": "execute_result"
    }
   ],
   "source": [
    "from scipy.stats import binom\n",
    "import numpy as np\n",
    "p = 100/250\n",
    "n = 20\n",
    "x=5\n",
    "\n",
    "binom.pmf(x,n,p)\n",
    "\n",
    "\n",
    "\n",
    "\n"
   ]
  },
  {
   "cell_type": "markdown",
   "id": "2efabadc-feb1-4ace-85e6-b370464b42cf",
   "metadata": {},
   "source": [
    "What is the probability that at most 2 women win the raffle?"
   ]
  },
  {
   "cell_type": "code",
   "execution_count": 2,
   "id": "93d9ee0f-b774-4b44-8331-5288eb995e4d",
   "metadata": {},
   "outputs": [
    {
     "data": {
      "text/plain": [
       "0.0036114720591288773"
      ]
     },
     "execution_count": 2,
     "metadata": {},
     "output_type": "execute_result"
    }
   ],
   "source": [
    "binom.pmf([0,1,2], n, p).sum()"
   ]
  },
  {
   "cell_type": "markdown",
   "id": "0ac521b6-7052-4ced-8e7d-e7f272c2f772",
   "metadata": {},
   "source": [
    "What is the probability that at least 4 women win?"
   ]
  },
  {
   "cell_type": "code",
   "execution_count": 3,
   "id": "ba68f2ca-196c-40db-89d5-9c496d9155c0",
   "metadata": {},
   "outputs": [
    {
     "data": {
      "text/plain": [
       "0.9876503092691206"
      ]
     },
     "execution_count": 3,
     "metadata": {},
     "output_type": "execute_result"
    }
   ],
   "source": [
    "\n",
    "example3 = 1-binom.pmf(3, n, p)\n",
    "example3\n",
    "\n"
   ]
  },
  {
   "cell_type": "markdown",
   "id": "6f8c51f9-feec-4df3-a22e-7f4b35587798",
   "metadata": {},
   "source": [
    "Problem:\n",
    "In a class with 20 students, the teacher decides to ask his students about the \"binomial distribution.\" The probability that a student answers correctly is 0.3. It is asked:\n",
    "1. Model the problem.\n",
    "2. Probability that, when asked, less than three students will answer correctly.\n",
    "3. Probability that when asked, the students will answer correctly, between 5 and 9, both inclusive.\n",
    "4. Expected value of students who answer correctly when asked by the teacher.\n",
    "5. Variance and standard deviation of the distribution taken."
   ]
  },
  {
   "cell_type": "code",
   "execution_count": 4,
   "id": "fa1adf93-7031-4f10-9df7-f23176297190",
   "metadata": {},
   "outputs": [
    {
     "name": "stdout",
     "output_type": "stream",
     "text": [
      "Resut 2: 0.03548\n",
      "Result 3: 0.7145\n",
      "Result 4: 6.0\n",
      "Result 5 variance: 4.2\n",
      "Result 5 typical deviation: 2.049\n"
     ]
    }
   ],
   "source": [
    "#1 model\n",
    "p = 0.3\n",
    "n= 20\n",
    "q = 1-p\n",
    "\n",
    "#2\n",
    "\n",
    "result2 = binom.pmf([0,1,2],n,p).sum()\n",
    "print(f\"Resut 2: {result2:{1}.{4}}\")\n",
    "#3\n",
    "\n",
    "result3 = binom.pmf([5,6,7,8,9],n,p).sum()\n",
    "print(f\"Result 3: {result3:{1}.{4}}\")\n",
    "\n",
    "#4\n",
    "hope = n*p\n",
    "print(f\"Result 4: {hope}\")\n",
    "\n",
    "#5\n",
    "variance = n*p*q\n",
    "typical_deviation = np.sqrt(variance)\n",
    "print(f\"Result 5 variance: {variance:{1}.{4}}\")\n",
    "print(f\"Result 5 typical deviation: {typical_deviation:{1}.{4}}\")\n",
    "\n"
   ]
  },
  {
   "cell_type": "markdown",
   "id": "98c8f74f-1cc5-447d-849f-9352384056b4",
   "metadata": {},
   "source": [
    "Example:\n",
    "In a town a gymkhana is organized every year to raise funds for the city hospital. It is known that the proportion of women participating in the gymkhana is 60%. The total number of teams, with 12 members, registered for the gymkhana this year is 30. With the previous information, answer: how many teams must be made up of 8 women?"
   ]
  },
  {
   "cell_type": "code",
   "execution_count": 13,
   "id": "7981db56-f0be-44ec-982a-4e0d9aa50fb8",
   "metadata": {},
   "outputs": [
    {
     "name": "stdout",
     "output_type": "stream",
     "text": [
      "Result probability: 0.21284093952\n",
      "The result of the teams made up of 8 women is: 6.385\n"
     ]
    }
   ],
   "source": [
    "team = 12\n",
    "total_person = 12 * 30\n",
    "woman_percentage = total_person * 0.6\n",
    "p = 0.6\n",
    "n = 12\n",
    "q = 1-p\n",
    "x = 8\n",
    "resultP = binom.pmf(x,n,p)\n",
    "print(f\"Result probability: {resultP}\")\n",
    "equip_with_height_woman = 30 * resultP\n",
    "print(f\"The result of the teams made up of 8 women is: {equip_with_height_woman:{2}.{4}}\")\n"
   ]
  },
  {
   "cell_type": "code",
   "execution_count": null,
   "id": "3410c207-3637-40d5-bf6b-6bf570fdf1c8",
   "metadata": {},
   "outputs": [],
   "source": []
  }
 ],
 "metadata": {
  "kernelspec": {
   "display_name": "Python 3 (ipykernel)",
   "language": "python",
   "name": "python3"
  },
  "language_info": {
   "codemirror_mode": {
    "name": "ipython",
    "version": 3
   },
   "file_extension": ".py",
   "mimetype": "text/x-python",
   "name": "python",
   "nbconvert_exporter": "python",
   "pygments_lexer": "ipython3",
   "version": "3.9.7"
  }
 },
 "nbformat": 4,
 "nbformat_minor": 5
}
