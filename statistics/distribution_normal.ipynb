{
 "cells": [
  {
   "cell_type": "markdown",
   "id": "bf7d7faa-394a-4a47-b441-14f23d2e09ac",
   "metadata": {},
   "source": [
    "In a study on the heights of the inhabitants of a city, it was found that the data set follows an approximately normal distribution, with a mean of 1.70 and a standard deviation of 0.1. With this information obtain the following set of probabilities:\n",
    "\n",
    "A. probability that a randomly selected person is less than 1.80 meters tall.\n",
    "B. Probability that a randomly selected person is between 1.60 and 1.80 meters tall.\n",
    "C. Probability that a randomly selected person is taller than 1.90 meters.\n",
    "\n"
   ]
  },
  {
   "cell_type": "code",
   "execution_count": 2,
   "id": "cc519829-287e-464d-a5c9-33d93043b5a8",
   "metadata": {},
   "outputs": [
    {
     "data": {
      "text/plain": [
       "1.0000000000000009"
      ]
     },
     "execution_count": 2,
     "metadata": {},
     "output_type": "execute_result"
    }
   ],
   "source": [
    "from scipy.stats import norm\n",
    "mean = 1.70\n",
    "standard_desviation = 0.1\n",
    "\n",
    "Z = (1.80 - mean)/standard_desviation\n",
    "Z"
   ]
  },
  {
   "cell_type": "code",
   "execution_count": 3,
   "id": "0347f7d2-7433-4fb5-a539-5bdb08495024",
   "metadata": {},
   "outputs": [
    {
     "name": "stdout",
     "output_type": "stream",
     "text": [
      "0.8413447460685431\n"
     ]
    }
   ],
   "source": [
    "#A .\n",
    "0.8413\n",
    "#with scipy.norm\n",
    "print(norm.cdf(Z))\n"
   ]
  },
  {
   "cell_type": "code",
   "execution_count": 4,
   "id": "1b914784-55a4-43c4-8f31-ebaae379c3a1",
   "metadata": {},
   "outputs": [
    {
     "data": {
      "text/plain": [
       "-0.9999999999999987"
      ]
     },
     "execution_count": 4,
     "metadata": {},
     "output_type": "execute_result"
    }
   ],
   "source": [
    "#B\n",
    "Z_2 = (1.60 - mean)/ standard_desviation\n",
    "Z_2"
   ]
  },
  {
   "cell_type": "code",
   "execution_count": 5,
   "id": "9b517fd2-ec5c-4f22-8905-68efc6bf9311",
   "metadata": {},
   "outputs": [
    {
     "name": "stdout",
     "output_type": "stream",
     "text": [
      "0.6826894921370857\n"
     ]
    }
   ],
   "source": [
    "prob18 = norm.cdf(Z)\n",
    "prob16 = norm.cdf(Z_2)\n",
    "result = prob18 - prob16\n",
    "print(result)"
   ]
  },
  {
   "cell_type": "code",
   "execution_count": 6,
   "id": "7c18268e-f2ea-4098-9a16-73b2436ed60c",
   "metadata": {},
   "outputs": [
    {
     "data": {
      "text/plain": [
       "1.9999999999999996"
      ]
     },
     "execution_count": 6,
     "metadata": {},
     "output_type": "execute_result"
    }
   ],
   "source": [
    "#C \n",
    "Z_c = (1.90 - mean)/ standard_desviation\n",
    "Z_c"
   ]
  },
  {
   "cell_type": "code",
   "execution_count": 8,
   "id": "c1e86350-bf25-4f32-8437-9b5d492ccb87",
   "metadata": {},
   "outputs": [
    {
     "name": "stdout",
     "output_type": "stream",
     "text": [
      "0.02275013194817921\n"
     ]
    }
   ],
   "source": [
    "result_c = 1 - norm.cdf(Z_c)\n",
    "print(result_c)"
   ]
  },
  {
   "cell_type": "code",
   "execution_count": null,
   "id": "c00055aa-f5e7-4c06-8bab-f6c0366212a3",
   "metadata": {},
   "outputs": [],
   "source": []
  }
 ],
 "metadata": {
  "kernelspec": {
   "display_name": "Python 3 (ipykernel)",
   "language": "python",
   "name": "python3"
  },
  "language_info": {
   "codemirror_mode": {
    "name": "ipython",
    "version": 3
   },
   "file_extension": ".py",
   "mimetype": "text/x-python",
   "name": "python",
   "nbconvert_exporter": "python",
   "pygments_lexer": "ipython3",
   "version": "3.9.7"
  }
 },
 "nbformat": 4,
 "nbformat_minor": 5
}
